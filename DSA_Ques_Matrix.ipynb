{
 "cells": [
  {
   "cell_type": "markdown",
   "id": "a5023d9d",
   "metadata": {},
   "source": [
    "# spiral matrix"
   ]
  },
  {
   "cell_type": "code",
   "execution_count": 1,
   "id": "dfbbc818",
   "metadata": {},
   "outputs": [
    {
     "name": "stdout",
     "output_type": "stream",
     "text": [
      "[1, 2, 3, 4, 8, 12, 16, 15, 14, 13, 9, 5, 6, 7, 11, 10]\n"
     ]
    }
   ],
   "source": [
    "def GSM(IM):\n",
    "    res = []\n",
    "    if len(IM)==0:\n",
    "        return res\n",
    "    r = 0\n",
    "    re = len(IM)-1\n",
    "    c = 0\n",
    "    ce =len(IM[0])-1\n",
    "    while r<=re and c<=ce:\n",
    "        for i in range(c,ce+1):\n",
    "            res.append(IM[r][i])\n",
    "        r+=1\n",
    "        for i in range(r,re+1):\n",
    "            res.append(IM[i][ce])\n",
    "        ce -=1\n",
    "        if r<=re:\n",
    "            for i in range(ce,c-1,-1):\n",
    "                res.append(IM[re][i])\n",
    "            re-=1\n",
    "        if c<=ce:\n",
    "            for i in range(re,r-1,-1):\n",
    "                res.append(IM[i][c])\n",
    "        c +=1\n",
    "    return res\n",
    "m = [\n",
    "    [1,2,3,4],\n",
    "    [5,6,7,8],\n",
    "    [9,10,11,12],\n",
    "    [13,14,15,16]\n",
    "]\n",
    "print(GSM(m))\n",
    "            \n",
    "    \n",
    "    "
   ]
  },
  {
   "cell_type": "markdown",
   "id": "6676585f",
   "metadata": {},
   "source": [
    "# search 2d Matrix"
   ]
  },
  {
   "cell_type": "code",
   "execution_count": 17,
   "id": "147396e3",
   "metadata": {},
   "outputs": [
    {
     "name": "stdout",
     "output_type": "stream",
     "text": [
      "True\n"
     ]
    }
   ],
   "source": [
    "def searchMatrix(matrix, target):\n",
    "    if not matrix or not matrix[0]:\n",
    "        return False\n",
    "\n",
    "    rows = len(matrix)\n",
    "    cols = len(matrix[0])\n",
    "\n",
    "    row = 0\n",
    "    col = cols - 1\n",
    "\n",
    "    while row < rows and col >= 0:\n",
    "        if matrix[row][col] == target:\n",
    "            return True\n",
    "        elif matrix[row][col] < target:\n",
    "            row += 1\n",
    "        else:\n",
    "            col -= 1\n",
    "\n",
    "    return False\n",
    "\n",
    "\n",
    "matrix = [[1,3,5,7],[10,11,16,20],[23,30,34,60]]\n",
    "target = 3\n",
    "print(searchMatrix(matrix, target))  \n",
    "\n",
    "    "
   ]
  },
  {
   "cell_type": "markdown",
   "id": "2274e79f",
   "metadata": {},
   "source": [
    "\n",
    "# Median in a row-wise sorted Matrix"
   ]
  },
  {
   "cell_type": "code",
   "execution_count": 29,
   "id": "06c804ca",
   "metadata": {},
   "outputs": [
    {
     "name": "stdout",
     "output_type": "stream",
     "text": [
      "[1, 2, 3, 3, 5, 6, 6, 9, 9]\n",
      "5\n"
     ]
    }
   ],
   "source": [
    "m = [[1, 3, 5], \n",
    "     [2, 6, 9], \n",
    "     [3, 6, 9]]\n",
    "\n",
    "s = [element for row in m for element in row]\n",
    "s.sort()\n",
    "print(s)\n",
    "n = len(s)\n",
    "if n%2 ==0:\n",
    "    x = (s[n//2-1]+ s[n//2]) / 2\n",
    "else:\n",
    "    x = s[n//2]\n",
    "print(x)"
   ]
  },
  {
   "cell_type": "markdown",
   "id": "7892fc31",
   "metadata": {},
   "source": [
    "# Spirally Traversing a Matrix\n"
   ]
  },
  {
   "cell_type": "code",
   "execution_count": 34,
   "id": "8cbedf89",
   "metadata": {},
   "outputs": [
    {
     "name": "stdout",
     "output_type": "stream",
     "text": [
      "[1, 2, 3, 4, 8, 12, 16, 15, 14, 13, 9, 5]\n"
     ]
    }
   ],
   "source": [
    "def GMT(IM):\n",
    "    res = []\n",
    "    if len(IM)==0:\n",
    "        return res\n",
    "    r=0\n",
    "    re=len(IM)-1\n",
    "    c = 0\n",
    "    ce = len(IM[0])-1\n",
    "    while r<=re and c<=ce:\n",
    "        for i in range(c,ce+1):\n",
    "            res.append(IM[r][i])\n",
    "        r+=1\n",
    "        for i in range(r,re+1):\n",
    "            res.append(IM[i][ce])\n",
    "        ce-=1\n",
    "        if r<=re:\n",
    "            for i in range(ce,c-1,-1):\n",
    "                res.append(IM[re][i])\n",
    "            re-=1\n",
    "        if c <=ce:\n",
    "            for i in range(re,r-1,-1):\n",
    "                res.append(IM[i][c])\n",
    "            c+=1\n",
    "        return res\n",
    "    \n",
    "        \n",
    "    \n",
    "m = [\n",
    "    [1,2,3,4],\n",
    "    [5,6,7,8],\n",
    "    [9,10,11,12],\n",
    "    [13,14,15,16]\n",
    "]\n",
    "\n",
    "print(GMT(m))\n",
    "        "
   ]
  },
  {
   "cell_type": "markdown",
   "id": "c82b6d08",
   "metadata": {},
   "source": [
    "# Sorted Matrix"
   ]
  },
  {
   "cell_type": "code",
   "execution_count": 1,
   "id": "9e1246e2",
   "metadata": {},
   "outputs": [
    {
     "name": "stdout",
     "output_type": "stream",
     "text": [
      "[10, 15, 20, 25, 27, 29, 30, 32, 33, 35, 37, 39, 40, 45, 48, 50]\n"
     ]
    }
   ],
   "source": [
    "m=[[10,20,30,40],\n",
    "    [15,25,35,45],\n",
    "    [27,29,37,48],\n",
    "    [32,33,39,50]]\n",
    "s = [element for row in m for element in row]\n",
    "s.sort()\n",
    "print(s)\n"
   ]
  },
  {
   "cell_type": "markdown",
   "id": "bb2c7355",
   "metadata": {},
   "source": [
    "# Find a Specific Pair in Matrix"
   ]
  },
  {
   "cell_type": "code",
   "execution_count": 12,
   "id": "64016838",
   "metadata": {},
   "outputs": [
    {
     "name": "stdout",
     "output_type": "stream",
     "text": [
      "18\n"
     ]
    }
   ],
   "source": [
    "mat = [\n",
    "    [1, 2, -1, -4, -20],\n",
    "    [-8, -3, 4, 2, 1],\n",
    "    [3, 8, 6, 1, 3],\n",
    "    [-4, -1, 1, 7, -6],\n",
    "    [0, -4, 10, -5, 1]\n",
    "]\n",
    "\n",
    "max_diff = None\n",
    "\n",
    "for i in range(len(mat)):\n",
    "    for j in range(len(mat[0])):\n",
    "        for x in range(i, len(mat)):\n",
    "            for y in range(j + 1, len(mat[0])):\n",
    "                diff = mat[x][y] - mat[i][j]\n",
    "                if max_diff is None or diff > max_diff:\n",
    "                    max_diff = diff\n",
    "\n",
    "print(max_diff)"
   ]
  },
  {
   "cell_type": "markdown",
   "id": "cd357ecb",
   "metadata": {},
   "source": [
    "# Rotate a matrix by 90 degree in clockwise direction without using any extra space\n"
   ]
  },
  {
   "cell_type": "code",
   "execution_count": 14,
   "id": "8774f8aa",
   "metadata": {},
   "outputs": [
    {
     "name": "stdout",
     "output_type": "stream",
     "text": [
      "[7, 4, 1]\n",
      "[8, 5, 2]\n",
      "[9, 6, 3]\n"
     ]
    }
   ],
   "source": [
    "m =  [\n",
    "    [1, 2, 3],\n",
    "    [4, 5, 6],\n",
    "    [7, 8, 9]\n",
    "]\n",
    "for i in range(len(m)):\n",
    "    for j in range(i,len(m[0])):\n",
    "        m[i][j],m[j][i]=m[j][i],m[i][j]\n",
    "\n",
    "for i in range(len(m)):\n",
    "    m[i] = m[i][::-1]\n",
    "for row in m:\n",
    "    print(row)"
   ]
  },
  {
   "cell_type": "markdown",
   "id": "f7128efb",
   "metadata": {},
   "source": [
    "# Kth element in Matrix"
   ]
  },
  {
   "cell_type": "code",
   "execution_count": 15,
   "id": "495afafb",
   "metadata": {},
   "outputs": [
    {
     "name": "stdout",
     "output_type": "stream",
     "text": [
      "27\n"
     ]
    }
   ],
   "source": [
    "N = 4\n",
    "m = [\n",
    "    [16, 28, 60, 64],\n",
    "    [22, 41, 63, 91],\n",
    "    [27, 50, 87, 93],\n",
    "    [36, 78, 87, 94]\n",
    "]\n",
    "K = 3\n",
    "f =[elem for row in m for elem in row]\n",
    "x = sorted(f)\n",
    "print(x[k-1])"
   ]
  },
  {
   "cell_type": "markdown",
   "id": "6a41de92",
   "metadata": {},
   "source": [
    "# common elements in all rows of a given matrix\n",
    "\n"
   ]
  },
  {
   "cell_type": "code",
   "execution_count": 17,
   "id": "0a2a114f",
   "metadata": {},
   "outputs": [
    {
     "name": "stdout",
     "output_type": "stream",
     "text": [
      "8 1\n"
     ]
    }
   ],
   "source": [
    "mat = [\n",
    "    [1, 2, 1, 4, 8],\n",
    "    [3, 7, 8, 5, 1],\n",
    "    [8, 7, 7, 3, 1],\n",
    "    [8, 1, 2, 7, 9]\n",
    "]\n",
    "\n",
    "common_elements = set(mat[0])\n",
    "for row in mat[1:]:\n",
    "    \n",
    "    common_elements.intersection_update(row)\n",
    "\n",
    "print(*common_elements)\n"
   ]
  },
  {
   "cell_type": "code",
   "execution_count": null,
   "id": "1e37de7a",
   "metadata": {},
   "outputs": [],
   "source": []
  }
 ],
 "metadata": {
  "kernelspec": {
   "display_name": "Python 3 (ipykernel)",
   "language": "python",
   "name": "python3"
  },
  "language_info": {
   "codemirror_mode": {
    "name": "ipython",
    "version": 3
   },
   "file_extension": ".py",
   "mimetype": "text/x-python",
   "name": "python",
   "nbconvert_exporter": "python",
   "pygments_lexer": "ipython3",
   "version": "3.11.5"
  }
 },
 "nbformat": 4,
 "nbformat_minor": 5
}
